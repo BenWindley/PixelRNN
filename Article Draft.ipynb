{
 "cells": [
  {
   "cell_type": "markdown",
   "metadata": {
    "collapsed": true
   },
   "source": [
    "First, we set up the MNIST dataset and load everything we need."
   ]
  },
  {
   "cell_type": "code",
   "execution_count": 1,
   "metadata": {
    "collapsed": false
   },
   "outputs": [
    {
     "ename": "NameError",
     "evalue": "name 'load_dataset' is not defined",
     "output_type": "error",
     "traceback": [
      "\u001b[0;31m---------------------------------------------------------------------------\u001b[0m",
      "\u001b[0;31mNameError\u001b[0m                                 Traceback (most recent call last)",
      "\u001b[0;32m<ipython-input-1-38fdd8a08569>\u001b[0m in \u001b[0;36m<module>\u001b[0;34m()\u001b[0m\n\u001b[0;32m----> 1\u001b[0;31m \u001b[0mdataset\u001b[0m\u001b[1;33m,\u001b[0m \u001b[0mimage_height\u001b[0m\u001b[1;33m,\u001b[0m \u001b[0mimage_width\u001b[0m\u001b[1;33m,\u001b[0m \u001b[0mnum_channels\u001b[0m\u001b[1;33m,\u001b[0m \u001b[0mnext_train_batch\u001b[0m\u001b[1;33m,\u001b[0m \u001b[0mnext_test_batch\u001b[0m \u001b[1;33m=\u001b[0m \u001b[0mload_dataset\u001b[0m\u001b[1;33m(\u001b[0m\u001b[1;34m'mnist'\u001b[0m\u001b[1;33m)\u001b[0m\u001b[1;33m\u001b[0m\u001b[0m\n\u001b[0m",
      "\u001b[0;31mNameError\u001b[0m: name 'load_dataset' is not defined"
     ]
    }
   ],
   "source": [
    "BATCH_SIZE = 16\n",
    "NUM_HIDDEN_UNITS= 16\n",
    "OUTPUT_NUM_HIDDEN_UNITS = 32\n",
    "INPUT_RECURRENT_LENGTH = 7\n",
    "OUTPUT_RECURRENT_LENGTH = 2\n",
    "LEARNING_RATE = 1e-3\n",
    "WEIGHTS_INITIALIZER = tf.contrib.layers.xavier_initializer()\n",
    "\n",
    "# image_height = image_width = 28, num_channels = 1\n",
    "dataset, image_height, image_width, num_channels, next_train_batch, next_test_batch = load_dataset('mnist')\n",
    "train_data = dataset.train\n",
    "test_data = dataset.test\n",
    "\n"
   ]
  },
  {
   "cell_type": "markdown",
   "metadata": {},
   "source": [
    "Next we define placeholders for the input to our network and a utility function to get the shape of a tensor:"
   ]
  },
  {
   "cell_type": "code",
   "execution_count": 2,
   "metadata": {
    "collapsed": false
   },
   "outputs": [
    {
     "ename": "NameError",
     "evalue": "name 'tf' is not defined",
     "output_type": "error",
     "traceback": [
      "\u001b[0;31m---------------------------------------------------------------------------\u001b[0m",
      "\u001b[0;31mNameError\u001b[0m                                 Traceback (most recent call last)",
      "\u001b[0;32m<ipython-input-2-cc5c6a6c5fed>\u001b[0m in \u001b[0;36m<module>\u001b[0;34m()\u001b[0m\n\u001b[0;32m----> 1\u001b[0;31m \u001b[0minputs\u001b[0m \u001b[1;33m=\u001b[0m \u001b[0mtf\u001b[0m\u001b[1;33m.\u001b[0m\u001b[0mplaceholder\u001b[0m\u001b[1;33m(\u001b[0m\u001b[0mtf\u001b[0m\u001b[1;33m.\u001b[0m\u001b[0mfloat32\u001b[0m\u001b[1;33m,\u001b[0m \u001b[1;33m[\u001b[0m\u001b[1;32mNone\u001b[0m\u001b[1;33m,\u001b[0m \u001b[0mimage_height\u001b[0m\u001b[1;33m,\u001b[0m \u001b[0mimage_width\u001b[0m\u001b[1;33m,\u001b[0m \u001b[1;36m1\u001b[0m\u001b[1;33m]\u001b[0m\u001b[1;33m)\u001b[0m\u001b[1;33m\u001b[0m\u001b[0m\n\u001b[0m",
      "\u001b[0;31mNameError\u001b[0m: name 'tf' is not defined"
     ]
    }
   ],
   "source": [
    "inputs = tf.placeholder(tf.float32, [None, image_height, image_width, 1])\n",
    "\n",
    "def get_shape(tensor):\n",
    "    return tensor.get_shape().as_list()"
   ]
  },
  {
   "cell_type": "markdown",
   "metadata": {},
   "source": [
    "Next, we create a function to perform 2-D image convolutions with the masking procedure outlined above. We also create a 1-D convolution for applying the 1-D kernels to the skewed image in the Diagonal BiLSTM."
   ]
  },
  {
   "cell_type": "code",
   "execution_count": 3,
   "metadata": {
    "collapsed": true
   },
   "outputs": [],
   "source": [
    "def conv2d(inputs, num_outputs, kernel_shape, mask_type='A'):\n",
    "    batch_size, image_height, image_width, num_channels = get_shape(inputs)\n",
    "\n",
    "    kernel_height, kernel_width = kernel_shape\n",
    "    # get the location of the pixel being predicted by this kernel\n",
    "    center_height, center_width = kernel_height // 2, kernel_width // 2\n",
    "    \n",
    "    # initialize kernel weights\n",
    "    weights_shape = [kernel_height, kernel_width, 1, num_outputs]\n",
    "    weights = tf.get_variable('weights', weights_shape, tf.float32, WEIGHTS_INITIALIZER)\n",
    "    \n",
    "    # create and apply the masks to the convolution\n",
    "    # set all pixels below and all to the right of the center to 0\n",
    "    mask = np.ones([kernel_height, kernel_width, 1, num_outputs], dtype=np.float32)\n",
    "    mask[center_height, center_width+1:, :, :] = 0.\n",
    "    mask[center_height+1:, :, :, :] = 0.\n",
    "    \n",
    "    # for type A masks, we do not allow self-connections\n",
    "    if mask_type == 'A':\n",
    "        mask[center_height, center_width, :, :] = 0.\n",
    "        \n",
    "    # apply the mask\n",
    "    weights *= tf.constant(mask, dtype=tf.float32)\n",
    "    \n",
    "    # apply the convolution\n",
    "    outputs = tf.nn.conv2d(inputs, weights, [1, 1, 1, 1], padding='SAME')\n",
    "    return outputs\n",
    "\n",
    "def conv1d(inputs, num_outputs, kernel_height):\n",
    "    batch_size, image_height, image_width, num_channels = get_shape(inputs)\n",
    "    kernel_height, kernel_width = kernel_height, 1\n",
    "    \n",
    "    weights_shape = [kernel_height, kernel_width, 1, num_outputs]\n",
    "    weights = tf.get_variable('weights', weights_shape, tf.float32, WEIGHT_INITIALIZER)\n",
    "    outputs = tf.nn.conv2d(inputs, weights, [1, 1, 1, 1], padding='SAME')\n",
    "    return outputs\n"
   ]
  },
  {
   "cell_type": "markdown",
   "metadata": {},
   "source": [
    "Now we we need to construct the special Diagonal BiLSTM cells.\n",
    "To do so, we have to construct a Diagonal LSTM cell first."
   ]
  },
  {
   "cell_type": "code",
   "execution_count": null,
   "metadata": {
    "collapsed": true
   },
   "outputs": [],
   "source": [
    "class DiagonalLSTMCell(tf.python.ops.rnn_cell.RNNCell):\n",
    "    def __init__(self, hidden_dims, height):\n",
    "        self._num_unit_shards = 1\n",
    "        self._forget_bias = 1.0\n",
    "        self._height = height\n",
    "        self._hidden_dims = hidden_dims\n",
    "        self._num_units = hidden_dims * height\n",
    "        self._state_size = self._num_units * 2\n",
    "        self._output_size = self._num_units\n",
    "        \n",
    "    @property\n",
    "    def state_size(self):\n",
    "        return self._state_size\n",
    "    \n",
    "    @property\n",
    "    def output_size(self):\n",
    "        return self._output_size\n",
    "    \n",
    "    def __call__(self, input_to_state, state):\n",
    "        c_prev = tf.slice(state, [0, 0], [-1, self._num_units])\n",
    "        hidden_prev = tf.slice(state, [0, self._num_units], [-1, self._num_units])\n",
    "        \n",
    "        # input_to_state shape: [batch, 4 * height * hidden_dims]\n",
    "        input_size = input_to_state.get_shape().with_rank(2)[1]\n",
    "        \n",
    "        if input_size.value is None:\n",
    "            raise ValueError('Count not infer input size from input_to_state.')\n",
    "        \n",
    "        conv1d_inputs = tf.reshape(hidden_prev, [-1, self._height, 1, self._hidden_dims])\n",
    "        conv_state_to_state = conv1d(conv1d_inputs, 4 * self._hidden_dims, 2)\n",
    "        state_to_state = tf.reshape(conv_state_to_state, [-1, 4 * self._height * self._hidden_dims])\n",
    "        \n",
    "        lstm_matrix = tf.sigmoid(state_to_state + input_to_state)\n",
    "        i, g, f, o = tf.split(1, 4, lstm_matrix)\n",
    "        c = f * c_prev + i * g\n",
    "        h = tf.mul(o, tf.tanh(c))\n",
    "        \n",
    "        new_state = tf.concat(1, [c, h])\n",
    "        return h, new_state\n",
    "    \n",
    "def diagonal_lstm(inputs, hidden_dims):\n",
    "    skewed_inputs = skew(inputs)\n",
    "    input_to_state = conv2d(skewed_inputs, 4 * hidden_dims, 1, 1)\n",
    "    column_wise_inputs = tf.transpose(input_to_state, [0, 2, 1, 3])\n",
    "    \n",
    "    batch, width, height, channel = get_shape(column_wise_inputs)\n",
    "    rnn_inputs = tf.reshape(column_wise_inputs, [-1, width, height * channel])\n",
    "    \n",
    "    split_rnn_inputs = tf.split(split_dim=1, num_split=width, value=rnn_inputs)\n",
    "    rnn_input_list = [tf.squeeze(rnn_input, squeeze_dims=[1]) for rnn_input in split_rnn_inputs]\n",
    "    \n",
    "    cell = DiagonalLSTMCell(hidden_dims, height, channel)\n",
    "    \n",
    "    output_list, state_list = tf.nn.rnn(cell, inputs=rnn_input_list, dtype=tf.float32)\n",
    "    packed_outputs = tf.pack(output_list, 1)\n",
    "    width_first_outputs = tf.reshape(packed_outputs, [-1, width, height, hidden_dims])\n",
    "    \n",
    "    skewed_outputs = tf.transpose(width_first_outputs, [0, 2, 1, 3])\n",
    "    outputs = unskew(skewed_outputs)\n",
    "    return outputs"
   ]
  },
  {
   "cell_type": "markdown",
   "metadata": {},
   "source": [
    "Now we can use the diagonal LSTM cell to produce a BiLSTM cell."
   ]
  },
  {
   "cell_type": "code",
   "execution_count": null,
   "metadata": {
    "collapsed": true
   },
   "outputs": [],
   "source": [
    "def diagonal_bilstm(inputs, hidden_dims, use_residual=False):\n",
    "    def reverse(inputs):\n",
    "        return tf.reverse(inputs, [False, False, True, False])\n",
    "    \n",
    "    output_state_forward = diagonal_lstm(inputs, hidden_dims)\n",
    "    output_state_backward = reverse(diagonal_lstm(reverse(inputs), hidden_dims))\n",
    "    \n",
    "    if use_residual:\n",
    "        residual_state_forward = conv2d(output_state_forward, hidden_dims * 2, 1, 1)\n",
    "        output_state_forward = residual_state_forward + inputs\n",
    "        \n",
    "        residual_state_backward = conv2d(output_state_backward, hidden_dim * 2, 1, 1)\n",
    "        output_state_backward = residual_state_backward + inputs\n",
    "        \n",
    "    batch, height, width, channel = get_shape(output_state_backward)\n",
    "    output_state_backward_except_last = tf.slice(output_state_backward, [0, 0, 0, 0], [-1, height-1, -1, -1])\n",
    "    output_state_backward_only_last = tf.slice(output_state_backward, [0, height-1, 0, 0], [-,1 1, -1, -1])\n",
    "    \n",
    "    dummy_zeros = tf.zeros_like(output_state_backward_only_last)\n",
    "    output_state_backward_with_last_zeros = tf.concat(1, [output_state_backward_except_last, dummy_zeros])\n",
    "    \n",
    "    return output_state_forward + output_state_backward_with_last_zeros\n",
    "    "
   ]
  },
  {
   "cell_type": "markdown",
   "metadata": {},
   "source": [
    "Now we can move on to actually cosntructing the network. First we will be performing a 7x7 convolution on the image."
   ]
  },
  {
   "cell_type": "code",
   "execution_count": 4,
   "metadata": {
    "collapsed": false
   },
   "outputs": [
    {
     "ename": "NameError",
     "evalue": "name 'inputs' is not defined",
     "output_type": "error",
     "traceback": [
      "\u001b[0;31m---------------------------------------------------------------------------\u001b[0m",
      "\u001b[0;31mNameError\u001b[0m                                 Traceback (most recent call last)",
      "\u001b[0;32m<ipython-input-4-72f1b5544747>\u001b[0m in \u001b[0;36m<module>\u001b[0;34m()\u001b[0m\n\u001b[1;32m      1\u001b[0m \u001b[0mkernel_shape\u001b[0m \u001b[1;33m=\u001b[0m \u001b[1;33m[\u001b[0m\u001b[1;36m7\u001b[0m\u001b[1;33m,\u001b[0m \u001b[1;36m7\u001b[0m\u001b[1;33m]\u001b[0m\u001b[1;33m\u001b[0m\u001b[0m\n\u001b[0;32m----> 2\u001b[0;31m \u001b[0mconv_2d_inputs\u001b[0m \u001b[1;33m=\u001b[0m \u001b[0mconv2d\u001b[0m\u001b[1;33m(\u001b[0m\u001b[0minputs\u001b[0m\u001b[1;33m,\u001b[0m \u001b[0mNUM_HIDDEN_UNITS\u001b[0m\u001b[1;33m,\u001b[0m \u001b[0mkernel_shape\u001b[0m\u001b[1;33m,\u001b[0m \u001b[1;34m'A'\u001b[0m\u001b[1;33m)\u001b[0m\u001b[1;33m\u001b[0m\u001b[0m\n\u001b[0m",
      "\u001b[0;31mNameError\u001b[0m: name 'inputs' is not defined"
     ]
    }
   ],
   "source": [
    "kernel_shape = [7, 7]\n",
    "if USE_RESIDUALS:\n",
    "    conv_2d_inputs = conv2d(inputs, 2 * NUM_HIDDEN_UNITS, kernel_shape, 'A')\n",
    "else:\n",
    "    conv_2d_inputs = conv2d(inputs, NUM_HIDDEN_UNITS, kernel_shape, 'A')"
   ]
  },
  {
   "cell_type": "markdown",
   "metadata": {},
   "source": [
    "Next, we construct all the BiLSTM layers."
   ]
  },
  {
   "cell_type": "code",
   "execution_count": null,
   "metadata": {
    "collapsed": true
   },
   "outputs": [],
   "source": [
    "last_input = conv_2d_inputs\n",
    "for i in range(INPUT_RECURRENT_LENGTH):\n",
    "    last_input = diagonal_bilstm(last_input, NUM_HIDDEN)UNITS, USE_RESIDUALS)\n",
    "    \n",
    "for i in range(OUTPUT_RECURRENT_LENGTH):\n",
    "    kernel_shape = [1, 1]\n",
    "    conv_layer = conv2d(last_input, OUTPUT_NUM_HIDDEN_UNITS, kernel_shape, 'B')\n",
    "    recurrent_out = tf.nn.relu(conv_layer)\n",
    "    last_input = recurrent_out\n",
    "    \n",
    "recurrent_out_logits = last_input"
   ]
  },
  {
   "cell_type": "markdown",
   "metadata": {},
   "source": [
    "We can now apply a final convolution layer to the logits of the recurrent portion of the network to get our predictions for each image."
   ]
  },
  {
   "cell_type": "code",
   "execution_count": null,
   "metadata": {
    "collapsed": true
   },
   "outputs": [],
   "source": [
    "conv2d_recurrent_logits = conv2d(recurrent_out_logits, 1, 1, 1, 'B')\n",
    "output = tf.nn.sigmoid(conv2d_recurrent_logits)"
   ]
  },
  {
   "cell_type": "markdown",
   "metadata": {},
   "source": [
    "Now we define our loss function to optimize and create the update step for the network."
   ]
  },
  {
   "cell_type": "code",
   "execution_count": null,
   "metadata": {
    "collapsed": true
   },
   "outputs": [],
   "source": [
    "all_losses = tf.nn.sigmoid_cross_entropy_with_logits(conv2d_recurrent_logits, inputs)\n",
    "loss = tf.reduce_mean(all_losses)\n",
    "\n",
    "optimizer = tf.train.RMSPropOptimizer(LEARNING_RATE)\n",
    "gradients_and_vars = optimizer.compute_gradients(loss)\n",
    "\n",
    "update_step = optimizer.apply_gradients(gradients_and_vars)\n",
    "\n",
    "def predict(sess, images):\n",
    "    return sess.run(output, feed_dict={inputs: images})\n",
    "\n",
    "def test(sess, images, with_update=False):\n",
    "    if with_update:\n",
    "        _, cost = sess.run([update_step, loss],\n",
    "            feed_dict = {inputs: images})\n",
    "    else:\n",
    "        cost = sess.run(loss, feed_dict = {inputs: images})\n",
    "    return cost\n",
    "\n",
    "def generate_images(sess, batch_shape, starting_pos=[0, 0], staring_image=None):\n",
    "    if starting_image is not None:\n",
    "        samples = starting_image.copy()\n",
    "    else:\n",
    "        samples = np.zeros(batch_shape, dtype='float32')\n",
    "        \n",
    "    batch_size, height, width, channels = batch_shape\n",
    "    for i in range(starting_pos[1], height):\n",
    "        for j in range(starting_pos[0], width):\n",
    "            for k in range(channels):\n",
    "                next_sample = binarize(predict(sess, samples))\n",
    "                samples[:, i, j, k] = next_sample[:, i, j, k]\n",
    "    return samples\n",
    "        "
   ]
  }
 ],
 "metadata": {
  "anaconda-cloud": {},
  "kernelspec": {
   "display_name": "Python [default]",
   "language": "python",
   "name": "python3"
  },
  "language_info": {
   "codemirror_mode": {
    "name": "ipython",
    "version": 3
   },
   "file_extension": ".py",
   "mimetype": "text/x-python",
   "name": "python",
   "nbconvert_exporter": "python",
   "pygments_lexer": "ipython3",
   "version": "3.5.2"
  }
 },
 "nbformat": 4,
 "nbformat_minor": 1
}
