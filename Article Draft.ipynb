{
 "cells": [
  {
   "cell_type": "markdown",
   "metadata": {
    "collapsed": true
   },
   "source": [
    "First, we set up the MNIST dataset and load everything we need."
   ]
  },
  {
   "cell_type": "code",
   "execution_count": 1,
   "metadata": {
    "collapsed": false
   },
   "outputs": [
    {
     "ename": "NameError",
     "evalue": "name 'load_dataset' is not defined",
     "output_type": "error",
     "traceback": [
      "\u001b[0;31m---------------------------------------------------------------------------\u001b[0m",
      "\u001b[0;31mNameError\u001b[0m                                 Traceback (most recent call last)",
      "\u001b[0;32m<ipython-input-1-38fdd8a08569>\u001b[0m in \u001b[0;36m<module>\u001b[0;34m()\u001b[0m\n\u001b[0;32m----> 1\u001b[0;31m \u001b[0mdataset\u001b[0m\u001b[1;33m,\u001b[0m \u001b[0mimage_height\u001b[0m\u001b[1;33m,\u001b[0m \u001b[0mimage_width\u001b[0m\u001b[1;33m,\u001b[0m \u001b[0mnum_channels\u001b[0m\u001b[1;33m,\u001b[0m \u001b[0mnext_train_batch\u001b[0m\u001b[1;33m,\u001b[0m \u001b[0mnext_test_batch\u001b[0m \u001b[1;33m=\u001b[0m \u001b[0mload_dataset\u001b[0m\u001b[1;33m(\u001b[0m\u001b[1;34m'mnist'\u001b[0m\u001b[1;33m)\u001b[0m\u001b[1;33m\u001b[0m\u001b[0m\n\u001b[0m",
      "\u001b[0;31mNameError\u001b[0m: name 'load_dataset' is not defined"
     ]
    }
   ],
   "source": [
    "BATCH_SIZE = 16\n",
    "WEIGHTS_INITIALIZER = tf.contrib.layers.xavier_initializer()\n",
    "\n",
    "# image_height = image_width = 28, num_channels = 1\n",
    "dataset, image_height, image_width, num_channels, next_train_batch, next_test_batch = load_dataset('mnist')\n",
    "train_data = dataset.train\n",
    "test_data = dataset.test\n",
    "\n"
   ]
  },
  {
   "cell_type": "markdown",
   "metadata": {},
   "source": [
    "Next we define placeholders for the input to our network and a utility function to get the shape of a tensor:"
   ]
  },
  {
   "cell_type": "code",
   "execution_count": 2,
   "metadata": {
    "collapsed": false
   },
   "outputs": [
    {
     "ename": "NameError",
     "evalue": "name 'tf' is not defined",
     "output_type": "error",
     "traceback": [
      "\u001b[0;31m---------------------------------------------------------------------------\u001b[0m",
      "\u001b[0;31mNameError\u001b[0m                                 Traceback (most recent call last)",
      "\u001b[0;32m<ipython-input-2-cc5c6a6c5fed>\u001b[0m in \u001b[0;36m<module>\u001b[0;34m()\u001b[0m\n\u001b[0;32m----> 1\u001b[0;31m \u001b[0minputs\u001b[0m \u001b[1;33m=\u001b[0m \u001b[0mtf\u001b[0m\u001b[1;33m.\u001b[0m\u001b[0mplaceholder\u001b[0m\u001b[1;33m(\u001b[0m\u001b[0mtf\u001b[0m\u001b[1;33m.\u001b[0m\u001b[0mfloat32\u001b[0m\u001b[1;33m,\u001b[0m \u001b[1;33m[\u001b[0m\u001b[1;32mNone\u001b[0m\u001b[1;33m,\u001b[0m \u001b[0mimage_height\u001b[0m\u001b[1;33m,\u001b[0m \u001b[0mimage_width\u001b[0m\u001b[1;33m,\u001b[0m \u001b[1;36m1\u001b[0m\u001b[1;33m]\u001b[0m\u001b[1;33m)\u001b[0m\u001b[1;33m\u001b[0m\u001b[0m\n\u001b[0m",
      "\u001b[0;31mNameError\u001b[0m: name 'tf' is not defined"
     ]
    }
   ],
   "source": [
    "inputs = tf.placeholder(tf.float32, [None, image_height, image_width, 1])\n",
    "\n",
    "def get_shape(tensor):\n",
    "    return tensor.get_shape().as_list()"
   ]
  },
  {
   "cell_type": "markdown",
   "metadata": {},
   "source": [
    "Next, we create a function to perform 2-D image convolutions with the masking procedure outlined above. We also create a 1-D convolution for applying the 1-D kernels to the skewed image in the Diagonal BiLSTM."
   ]
  },
  {
   "cell_type": "code",
   "execution_count": 3,
   "metadata": {
    "collapsed": true
   },
   "outputs": [],
   "source": [
    "def conv2d(inputs, num_outputs, kernel_shape, mask_type='A'):\n",
    "    batch_size, image_height, image_width, num_channels = get_shape(inputs)\n",
    "\n",
    "    kernel_height, kernel_width = kernel_shape\n",
    "    # get the location of the pixel being predicted by this kernel\n",
    "    center_height, center_width = kernel_height // 2, kernel_width // 2\n",
    "    \n",
    "    # initialize kernel weights\n",
    "    weights_shape = [kernel_height, kernel_width, 1, num_outputs]\n",
    "    weights = tf.get_variable('weights', weights_shape, tf.float32, WEIGHTS_INITIALIZER)\n",
    "    \n",
    "    # create and apply the masks to the convolution\n",
    "    # set all pixels below and all to the right of the center to 0\n",
    "    mask = np.ones([kernel_height, kernel_width, 1, num_outputs], dtype=np.float32)\n",
    "    mask[center_height, center_width+1:, :, :] = 0.\n",
    "    mask[center_height+1:, :, :, :] = 0.\n",
    "    \n",
    "    # for type A masks, we do not allow self-connections\n",
    "    if mask_type == 'A':\n",
    "        mask[center_height, center_width, :, :] = 0.\n",
    "        \n",
    "    # apply the mask\n",
    "    weights *= tf.constant(mask, dtype=tf.float32)\n",
    "    \n",
    "    # apply the convolution\n",
    "    outputs = tf.nn.conv2d(inputs, weights, [1, 1, 1, 1], padding='SAME')\n",
    "    return outputs\n",
    "\n",
    "def conv1d(inputs, num_outputs, kernel_height):\n",
    "    batch_size, image_height, image_width, num_channels = get_shape(inputs)\n",
    "    kernel_height, kernel_width = kernel_height, 1\n",
    "    \n",
    "    weights_shape = [kernel_height, kernel_width, 1, num_outputs]\n",
    "    weights = tf.get_variable('weights', weights_shape, tf.float32, WEIGHT_INITIALIZER)\n",
    "    outputs = tf.nn.conv2d(inputs, weights, [1, 1, 1, 1], padding='SAME')\n",
    "    return outputs\n"
   ]
  },
  {
   "cell_type": "markdown",
   "metadata": {},
   "source": []
  }
 ],
 "metadata": {
  "anaconda-cloud": {},
  "kernelspec": {
   "display_name": "Python [default]",
   "language": "python",
   "name": "python3"
  },
  "language_info": {
   "codemirror_mode": {
    "name": "ipython",
    "version": 3
   },
   "file_extension": ".py",
   "mimetype": "text/x-python",
   "name": "python",
   "nbconvert_exporter": "python",
   "pygments_lexer": "ipython3",
   "version": "3.5.2"
  }
 },
 "nbformat": 4,
 "nbformat_minor": 1
}
